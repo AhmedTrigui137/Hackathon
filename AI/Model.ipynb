{
 "cells": [
  {
   "cell_type": "code",
   "execution_count": null,
   "metadata": {
    "colab": {
     "base_uri": "https://localhost:8080/",
     "height": 565
    },
    "id": "KmwmHHz6pg3K",
    "outputId": "93552e43-073d-4ef8-cfb8-6d1a78185bb5"
   },
   "outputs": [
    {
     "name": "stdout",
     "output_type": "stream",
     "text": [
      "Collecting openai==0.27.0\n",
      "  Downloading openai-0.27.0-py3-none-any.whl.metadata (13 kB)\n",
      "Requirement already satisfied: requests>=2.20 in /usr/local/lib/python3.10/dist-packages (from openai==0.27.0) (2.32.3)\n",
      "Requirement already satisfied: tqdm in /usr/local/lib/python3.10/dist-packages (from openai==0.27.0) (4.66.6)\n",
      "Requirement already satisfied: aiohttp in /usr/local/lib/python3.10/dist-packages (from openai==0.27.0) (3.10.10)\n",
      "Requirement already satisfied: charset-normalizer<4,>=2 in /usr/local/lib/python3.10/dist-packages (from requests>=2.20->openai==0.27.0) (3.4.0)\n",
      "Requirement already satisfied: idna<4,>=2.5 in /usr/local/lib/python3.10/dist-packages (from requests>=2.20->openai==0.27.0) (3.10)\n",
      "Requirement already satisfied: urllib3<3,>=1.21.1 in /usr/local/lib/python3.10/dist-packages (from requests>=2.20->openai==0.27.0) (2.2.3)\n",
      "Requirement already satisfied: certifi>=2017.4.17 in /usr/local/lib/python3.10/dist-packages (from requests>=2.20->openai==0.27.0) (2024.8.30)\n",
      "Requirement already satisfied: aiohappyeyeballs>=2.3.0 in /usr/local/lib/python3.10/dist-packages (from aiohttp->openai==0.27.0) (2.4.3)\n",
      "Requirement already satisfied: aiosignal>=1.1.2 in /usr/local/lib/python3.10/dist-packages (from aiohttp->openai==0.27.0) (1.3.1)\n",
      "Requirement already satisfied: attrs>=17.3.0 in /usr/local/lib/python3.10/dist-packages (from aiohttp->openai==0.27.0) (24.2.0)\n",
      "Requirement already satisfied: frozenlist>=1.1.1 in /usr/local/lib/python3.10/dist-packages (from aiohttp->openai==0.27.0) (1.5.0)\n",
      "Requirement already satisfied: multidict<7.0,>=4.5 in /usr/local/lib/python3.10/dist-packages (from aiohttp->openai==0.27.0) (6.1.0)\n",
      "Requirement already satisfied: yarl<2.0,>=1.12.0 in /usr/local/lib/python3.10/dist-packages (from aiohttp->openai==0.27.0) (1.17.1)\n",
      "Requirement already satisfied: async-timeout<5.0,>=4.0 in /usr/local/lib/python3.10/dist-packages (from aiohttp->openai==0.27.0) (4.0.3)\n",
      "Requirement already satisfied: typing-extensions>=4.1.0 in /usr/local/lib/python3.10/dist-packages (from multidict<7.0,>=4.5->aiohttp->openai==0.27.0) (4.12.2)\n",
      "Requirement already satisfied: propcache>=0.2.0 in /usr/local/lib/python3.10/dist-packages (from yarl<2.0,>=1.12.0->aiohttp->openai==0.27.0) (0.2.0)\n",
      "Downloading openai-0.27.0-py3-none-any.whl (70 kB)\n",
      "\u001b[2K   \u001b[90m━━━━━━━━━━━━━━━━━━━━━━━━━━━━━━━━━━━━━━━━\u001b[0m \u001b[32m70.1/70.1 kB\u001b[0m \u001b[31m1.9 MB/s\u001b[0m eta \u001b[36m0:00:00\u001b[0m\n",
      "\u001b[?25hInstalling collected packages: openai\n",
      "  Attempting uninstall: openai\n",
      "    Found existing installation: openai 1.54.4\n",
      "    Uninstalling openai-1.54.4:\n",
      "      Successfully uninstalled openai-1.54.4\n",
      "Successfully installed openai-0.27.0\n"
     ]
    },
    {
     "data": {
      "application/vnd.colab-display-data+json": {
       "id": "6b8d6a562810475b9bc5c1b040bbc06e",
       "pip_warning": {
        "packages": [
         "openai"
        ]
       }
      }
     },
     "metadata": {},
     "output_type": "display_data"
    }
   ],
   "source": [
    "\n",
    "\n",
    "import json\n",
    "import openai\n",
    "from datetime import datetime\n",
    "import os\n",
    "\n",
    "!pip install openai==0.27.0"
   ]
  },
  {
   "cell_type": "code",
   "execution_count": null,
   "metadata": {
    "id": "1WxXpETjInO2"
   },
   "outputs": [],
   "source": [
    "import matplotlib.pyplot as plt\n",
    "from collections import Counter"
   ]
  },
  {
   "cell_type": "code",
   "execution_count": null,
   "metadata": {
    "id": "3RI30nq6pioi"
   },
   "outputs": [],
   "source": [
    "# Set your OpenAI API key\n",
    "#openai_api_key = getpass(\"YOUR_API_KEY\")\n",
    "#openai.api_key = 'YOUR_API_KEY'"
   ]
  },
  {
   "cell_type": "code",
   "execution_count": null,
   "metadata": {
    "id": "KusqMrC0pqhe"
   },
   "outputs": [],
   "source": [
    "def load_data(file_path):\n",
    "    \"\"\"Load JSON data from a file.\"\"\"\n",
    "    with open(file_path, 'r', encoding='utf-8') as file:\n",
    "        return json.load(file)\n",
    "\n"
   ]
  },
  {
   "cell_type": "code",
   "execution_count": null,
   "metadata": {
    "id": "eEMZASR_pvYg"
   },
   "outputs": [],
   "source": [
    "def analyze_conversation(conversation ):\n",
    "    \"\"\"Analyze the conversation text for conflicts and intensity using historical context if available.\"\"\"\n",
    "    try:\n",
    "        # Construct the messages for API request\n",
    "        messages = [\n",
    "            {\"role\": \"system\", \"content\":  \"\"\"\n",
    "            \"Please analyze the following conversation data regarding the team's discussion. Assess each member's contributions and provide an output for each team member in the following JSON format:\n",
    "\n",
    "{\n",
    "  'name': 'Team Member Name',\n",
    "  'role': 'Member Role',\n",
    "  'interaction_history': [\n",
    "    {\n",
    "      'conversation_id': '',\n",
    "      'date': 'todays date',\n",
    "      'intensity': '0->10',\n",
    "      'conflict_level': '0->10',\n",
    "      'participation_score': '0->10',\n",
    "      'sentiment': 'assessed sentiment '\n",
    "      'class' : 'positive or negativeif using words illegal offensive nagtive'\n",
    "      'reason: no reason  si positive ,put the reason si negative give the reason in 10 words'\n",
    "    }\n",
    "  ]\n",
    "}\n",
    "\n",
    "\n",
    "            \"\"\"},\n",
    "            {\"role\": \"user\", \"content\": f\"Conversation:\\n{conversation}\"}\n",
    "        ]\n",
    "\n",
    "        # Use OpenAI's ChatCompletion function\n",
    "        response = openai.ChatCompletion.create(\n",
    "            model=\"gpt-4o\",\n",
    "            messages=messages,\n",
    "            max_tokens=15000,\n",
    "            temperature=0.6\n",
    "        )\n",
    "\n",
    "        # Return the analysis result\n",
    "        return response.choices[0].message['content'].strip()\n",
    "\n",
    "    except Exception as e:\n",
    "        print(f\"An error occurred during conversation analysis: {str(e)}\")\n"
   ]
  },
  {
   "cell_type": "code",
   "execution_count": null,
   "metadata": {
    "id": "Tdjgja9pQl71"
   },
   "outputs": [],
   "source": [
    "# Define constants for JSON keys\n",
    "MEMBER_NAME = 'name'\n",
    "MEMBER_ROLE = 'role'\n",
    "INTERACTION_HISTORY = 'interaction_history'\n",
    "\n",
    "CONVERSATION_ID = 'conversation_id'\n",
    "DATE = 'date'\n",
    "INTENSITY = 'intensity'\n",
    "CONFLICT_LEVEL = 'conflict_level'\n",
    "PARTICIPATION_SCORE = 'participation_score'\n",
    "SENTIMENT = 'sentiment'\n",
    "CLASS = 'class'\n",
    "REASON = 'reason'"
   ]
  },
  {
   "cell_type": "code",
   "execution_count": null,
   "metadata": {
    "id": "nIZilHXfp9GE"
   },
   "outputs": [],
   "source": [
    "import csv\n",
    "from datetime import datetime\n",
    "\n",
    "# Initialize a basic team structure\n",
    "def initialize_team_structure():\n",
    "    return [\n",
    "        {\"name\": \"Slim\", \"role\": \"Team Leader\", \"interaction_history\": []},\n",
    "        {\"name\": \"Kareem\", \"role\": \"Data Analyst\", \"interaction_history\": []},\n",
    "        {\"name\": \"Yasmin\", \"role\": \"UX Designer\", \"interaction_history\": []},\n",
    "        {\"name\": \"Ahmed\", \"role\": \"Developer\", \"interaction_history\": []},\n",
    "        {\"name\": \"Fatima\", \"role\": \"Project Manager\", \"interaction_history\": []},\n",
    "        {\"name\": \"Hassan\", \"role\": \"Designer\", \"interaction_history\": []}\n",
    "    ]\n",
    "\n",
    "# Load the existing team history from a CSV file\n",
    "def load_history_from_csv(file_path):\n",
    "    \"\"\"Load the existing team history from a CSV file.\"\"\"\n",
    "    members = initialize_team_structure()\n",
    "    try:\n",
    "        with open(file_path, mode='r', newline='', encoding='utf-8') as csvfile:\n",
    "            csvreader = csv.DictReader(csvfile)\n",
    "            print(\"CSV Headers: \", csvreader.fieldnames)  # Debugging line\n",
    "            for row in csvreader:\n",
    "                print(row)  # Debugging output to see each row\n",
    "                name = row['Name']\n",
    "                # Find the member matching the name in the file\n",
    "                for member in members:\n",
    "                    if member[\"name\"] == name:\n",
    "                        interaction = {\n",
    "                            \"conversation_id\": row[\"Conversation ID\"],\n",
    "                            \"date\": row[\"Date\"],\n",
    "                            \"intensity\": int(row[\"Intensity\"]),\n",
    "                            \"conflict_level\": int(row[\"Conflict Level\"]),\n",
    "                            \"participation_score\": int(row[\"Participation Score\"]),\n",
    "                            \"sentiment\": row[\"Sentiment\"],\n",
    "                            \"class\": row[\"Class\"],\n",
    "                            \"reason\": row[\"Reason\"]\n",
    "                        }\n",
    "                        member[\"interaction_history\"].append(interaction)\n",
    "        return members\n",
    "    except FileNotFoundError:\n",
    "        print(f\"File {file_path} not found. Initializing structure.\")\n",
    "        return members\n",
    "\n",
    "# Save the updated history to a CSV file\n",
    "def save_history_to_csv(file_path, history_data):\n",
    "    \"\"\"Save the full team member history to a CSV file.\"\"\"\n",
    "    with open(file_path, mode='w', newline='', encoding='utf-8') as csvfile:\n",
    "        csvwriter = csv.writer(csvfile)\n",
    "        # Write headers\n",
    "        csvwriter.writerow([\n",
    "            'Name', 'Role', 'Conversation ID', 'Date', 'Intensity', 'Conflict Level',\n",
    "            'Participation Score', 'Sentiment', 'Class', 'Reason'\n",
    "        ])\n",
    "        for member in history_data:\n",
    "            for interaction in member[\"interaction_history\"]:\n",
    "                csvwriter.writerow([\n",
    "                    member[\"name\"],\n",
    "                    member[\"role\"],\n",
    "                    interaction[\"conversation_id\"],\n",
    "                    interaction[\"date\"],\n",
    "                    interaction[\"intensity\"],\n",
    "                    interaction[\"conflict_level\"],\n",
    "                    interaction[\"participation_score\"],\n",
    "                    interaction[\"sentiment\"],\n",
    "                    interaction[\"class\"],\n",
    "                    interaction[\"reason\"]\n",
    "                ])"
   ]
  },
  {
   "cell_type": "code",
   "execution_count": null,
   "metadata": {
    "colab": {
     "base_uri": "https://localhost:8080/",
     "height": 211
    },
    "id": "GBvX4d5lqNiZ",
    "outputId": "ff95746b-8caf-4116-ac65-9916f941f082"
   },
   "outputs": [
    {
     "ename": "NameError",
     "evalue": "name 'load_data' is not defined",
     "output_type": "error",
     "traceback": [
      "\u001b[0;31m---------------------------------------------------------------------------\u001b[0m",
      "\u001b[0;31mNameError\u001b[0m                                 Traceback (most recent call last)",
      "\u001b[0;32m<ipython-input-2-278fb555b448>\u001b[0m in \u001b[0;36m<cell line: 6>\u001b[0;34m()\u001b[0m\n\u001b[1;32m      4\u001b[0m \u001b[0;34m\u001b[0m\u001b[0m\n\u001b[1;32m      5\u001b[0m \u001b[0;31m# Load conversation and history data\u001b[0m\u001b[0;34m\u001b[0m\u001b[0;34m\u001b[0m\u001b[0m\n\u001b[0;32m----> 6\u001b[0;31m \u001b[0mconversation_data\u001b[0m \u001b[0;34m=\u001b[0m \u001b[0mload_data\u001b[0m\u001b[0;34m(\u001b[0m\u001b[0mconversation_file_path\u001b[0m\u001b[0;34m)\u001b[0m\u001b[0;34m\u001b[0m\u001b[0;34m\u001b[0m\u001b[0m\n\u001b[0m\u001b[1;32m      7\u001b[0m \u001b[0mconversation_text\u001b[0m \u001b[0;34m=\u001b[0m \u001b[0;34m\"\\n\"\u001b[0m\u001b[0;34m.\u001b[0m\u001b[0mjoin\u001b[0m\u001b[0;34m(\u001b[0m\u001b[0;34m[\u001b[0m\u001b[0mitem\u001b[0m\u001b[0;34m.\u001b[0m\u001b[0mget\u001b[0m\u001b[0;34m(\u001b[0m\u001b[0;34m\"text\"\u001b[0m\u001b[0;34m,\u001b[0m \u001b[0;34m\"\"\u001b[0m\u001b[0;34m)\u001b[0m \u001b[0;32mfor\u001b[0m \u001b[0mitem\u001b[0m \u001b[0;32min\u001b[0m \u001b[0mconversation_data\u001b[0m\u001b[0;34m.\u001b[0m\u001b[0mget\u001b[0m\u001b[0;34m(\u001b[0m\u001b[0;34m\"conversation\"\u001b[0m\u001b[0;34m,\u001b[0m \u001b[0;34m[\u001b[0m\u001b[0;34m]\u001b[0m\u001b[0;34m)\u001b[0m\u001b[0;34m]\u001b[0m\u001b[0;34m)\u001b[0m\u001b[0;34m\u001b[0m\u001b[0;34m\u001b[0m\u001b[0m\n\u001b[1;32m      8\u001b[0m \u001b[0;34m\u001b[0m\u001b[0m\n",
      "\u001b[0;31mNameError\u001b[0m: name 'load_data' is not defined"
     ]
    }
   ],
   "source": [
    "conversation_file_path = '/data.json'\n",
    "history_file_path = '/history.csv'\n",
    "\n",
    "\n",
    "# Load conversation and history data\n",
    "conversation_data = load_data(conversation_file_path)\n",
    "conversation_text = \"\\n\".join([item.get(\"text\", \"\") for item in conversation_data.get(\"conversation\", [])])\n",
    "\n",
    "# Load existing history\n",
    "team_history = load_history_from_csv(history_file_path)\n",
    "\n",
    "\n",
    "try:\n",
    "    # Analyze conversation with historical context\n",
    "     analysis_report = analyze_conversation(conversation_text)\n",
    "\n",
    "\n",
    "    # Ensure that the conversation ID is present\n",
    "     conversation_id = conversation_data.get(\"conversation_id\")\n",
    "     if not conversation_id:\n",
    "        raise KeyError(\"conversation_id not found in the conversation data.\")\n",
    "\n",
    "\n",
    "     print(\"Analysis complete. Updated history saved to 'history.json'.\")\n",
    "\n",
    "\n",
    "\n",
    "except Exception as e:\n",
    "    print(f\"An error occurred: {str(e)}\")\n",
    "\n",
    "\n",
    "    # Plot member contributions\n"
   ]
  },
  {
   "cell_type": "code",
   "execution_count": null,
   "metadata": {
    "colab": {
     "base_uri": "https://localhost:8080/"
    },
    "id": "HkxfBBMAuKk8",
    "outputId": "39f6e8e7-bf0e-4859-907f-91d741a7dc1e"
   },
   "outputs": [
    {
     "name": "stdout",
     "output_type": "stream",
     "text": [
      "```json\n",
      "[\n",
      "  {\n",
      "    \"name\": \"Slim\",\n",
      "    \"role\": \"Team Leader\",\n",
      "    \"interaction_history\": [\n",
      "      {\n",
      "        \"conversation_id\": \"1\",\n",
      "        \"date\": \"October 2023\",\n",
      "        \"intensity\": \"6\",\n",
      "        \"conflict_level\": \"3\",\n",
      "        \"participation_score\": \"8\",\n",
      "        \"sentiment\": \"positive\",\n",
      "        \"class\": \"positive\",\n",
      "        \"reason\": \"no reason\"\n",
      "      }\n",
      "    ]\n",
      "  },\n",
      "  {\n",
      "    \"name\": \"Kareem\",\n",
      "    \"role\": \"Data Analyst\",\n",
      "    \"interaction_history\": [\n",
      "      {\n",
      "        \"conversation_id\": \"1\",\n",
      "        \"date\": \"October 2023\",\n",
      "        \"intensity\": \"5\",\n",
      "        \"conflict_level\": \"2\",\n",
      "        \"participation_score\": \"7\",\n",
      "        \"sentiment\": \"positive\",\n",
      "        \"class\": \"positive\",\n",
      "        \"reason\": \"no reason\"\n",
      "      }\n",
      "    ]\n",
      "  },\n",
      "  {\n",
      "    \"name\": \"Yasmin\",\n",
      "    \"role\": \"UX Designer\",\n",
      "    \"interaction_history\": [\n",
      "      {\n",
      "        \"conversation_id\": \"1\",\n",
      "        \"date\": \"October 2023\",\n",
      "        \"intensity\": \"5\",\n",
      "        \"conflict_level\": \"2\",\n",
      "        \"participation_score\": \"8\",\n",
      "        \"sentiment\": \"positive\",\n",
      "        \"class\": \"positive\",\n",
      "        \"reason\": \"no reason\"\n",
      "      }\n",
      "    ]\n",
      "  },\n",
      "  {\n",
      "    \"name\": \"Ahmed\",\n",
      "    \"role\": \"Developer\",\n",
      "    \"interaction_history\": [\n",
      "      {\n",
      "        \"conversation_id\": \"1\",\n",
      "        \"date\": \"October 2023\",\n",
      "        \"intensity\": \"8\",\n",
      "        \"conflict_level\": \"9\",\n",
      "        \"participation_score\": \"6\",\n",
      "        \"sentiment\": \"negative\",\n",
      "        \"class\": \"negative\",\n",
      "        \"reason\": \"Use of offensive language and high conflict level\"\n",
      "      }\n",
      "    ]\n",
      "  },\n",
      "  {\n",
      "    \"name\": \"Fatima\",\n",
      "    \"role\": \"Project Manager\",\n",
      "    \"interaction_history\": [\n",
      "      {\n",
      "        \"conversation_id\": \"1\",\n",
      "        \"date\": \"October 2023\",\n",
      "        \"intensity\": \"6\",\n",
      "        \"conflict_level\": \"3\",\n",
      "        \"participation_score\": \"7\",\n",
      "        \"sentiment\": \"positive\",\n",
      "        \"class\": \"positive\",\n",
      "        \"reason\": \"no reason\"\n",
      "      }\n",
      "    ]\n",
      "  },\n",
      "  {\n",
      "    \"name\": \"Hassan\",\n",
      "    \"role\": \"Prototype Developer\",\n",
      "    \"interaction_history\": [\n",
      "      {\n",
      "        \"conversation_id\": \"1\",\n",
      "        \"date\": \"October 2023\",\n",
      "        \"intensity\": \"7\",\n",
      "        \"conflict_level\": \"8\",\n",
      "        \"participation_score\": \"7\",\n",
      "        \"sentiment\": \"negative\",\n",
      "        \"class\": \"negative\",\n",
      "        \"reason\": \"Use of offensive language and high conflict level\"\n",
      "      }\n",
      "    ]\n",
      "  }\n",
      "]\n",
      "```\n"
     ]
    }
   ],
   "source": [
    "print(analysis_report)"
   ]
  }
 ],
 "metadata": {
  "colab": {
   "provenance": []
  },
  "kernelspec": {
   "display_name": "Python 3",
   "name": "python3"
  },
  "language_info": {
   "name": "python"
  }
 },
 "nbformat": 4,
 "nbformat_minor": 0
}
